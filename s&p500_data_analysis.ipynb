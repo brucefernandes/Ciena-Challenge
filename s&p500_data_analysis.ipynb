{
  "nbformat": 4,
  "nbformat_minor": 0,
  "metadata": {
    "colab": {
      "provenance": []
    },
    "kernelspec": {
      "name": "python3",
      "display_name": "Python 3"
    },
    "language_info": {
      "name": "python"
    }
  },
  "cells": [
    {
      "cell_type": "code",
      "execution_count": null,
      "metadata": {
        "id": "YUi9BkMf_M3C"
      },
      "outputs": [],
      "source": [
        "!pip install yfinance"
      ]
    },
    {
      "cell_type": "code",
      "source": [
        "import pandas as pd\n",
        "import yfinance as yf"
      ],
      "metadata": {
        "id": "Eihpcxtk_bTK"
      },
      "execution_count": null,
      "outputs": []
    },
    {
      "cell_type": "code",
      "source": [
        "sp_wiki = 'https://en.wikipedia.org/wiki/List_of_S%26P_500_companies'\n",
        "sp_wiki_df = pd.read_html(sp_wiki)"
      ],
      "metadata": {
        "id": "oEG2-Sbr_fek"
      },
      "execution_count": null,
      "outputs": []
    },
    {
      "cell_type": "code",
      "source": [
        "sp_tickers = list(sp_wiki_df[0]['Symbol'].values) #grab the first table & grab the symbol values and force it into a list"
      ],
      "metadata": {
        "id": "89osyipTAD7b"
      },
      "execution_count": null,
      "outputs": []
    },
    {
      "cell_type": "code",
      "source": [
        "data = yf.download(sp_tickers, start=\"2012-12-31\", end=\"2023-01-01\", interval =\"1d\")"
      ],
      "metadata": {
        "id": "mZPI5xW_AX3J"
      },
      "execution_count": null,
      "outputs": []
    },
    {
      "cell_type": "code",
      "source": [
        "stock_prices = data['Adj Close']\n",
        "# data['Volume'].tail()"
      ],
      "metadata": {
        "id": "qTfevYmIRc1t"
      },
      "execution_count": null,
      "outputs": []
    },
    {
      "cell_type": "code",
      "source": [
        "stock_prices.loc['2021-1-11 00:00:00']['BKNG']"
      ],
      "metadata": {
        "colab": {
          "base_uri": "https://localhost:8080/"
        },
        "id": "JR5dBjZ7rU1L",
        "outputId": "a4b6343a-86a1-4776-a8fe-92a0fce3d093"
      },
      "execution_count": 124,
      "outputs": [
        {
          "output_type": "execute_result",
          "data": {
            "text/plain": [
              "2221.27001953125"
            ]
          },
          "metadata": {},
          "execution_count": 124
        }
      ]
    },
    {
      "cell_type": "code",
      "source": [
        "def highest_prices(years):\n",
        "  #first we determine the yearly range asked for\n",
        "  if years not in range(1,11):\n",
        "    return \"ERROR: Enter a valid number between 1 to 10\"\n",
        "  \n",
        "  start_year = str(2023 - years)\n",
        "  \n",
        "  stock_prices_in_range = stock_prices.loc[start_year + '-1-1 00:00:00' : '2023-1-1 00:00:00']\n",
        "  maximum_stock_prices = stock_prices_in_range.max()\n",
        "  top_10_tickers = maximum_stock_prices.nlargest(10)\n",
        "\n",
        "  return top_10_tickers"
      ],
      "metadata": {
        "id": "uRwPc9itPCoV"
      },
      "execution_count": null,
      "outputs": []
    },
    {
      "cell_type": "code",
      "source": [
        "highest_prices(5)\n",
        "# d = pd.DataFrame(highest_prices(1))\n",
        "# d\n",
        "# df2=d['0'].idxmax()\n",
        "# df2"
      ],
      "metadata": {
        "colab": {
          "base_uri": "https://localhost:8080/"
        },
        "id": "9Q1fpDoLcwMN",
        "outputId": "738b976a-5780-4762-98fc-bdad52be819f"
      },
      "execution_count": 125,
      "outputs": [
        {
          "output_type": "execute_result",
          "data": {
            "text/plain": [
              "NVR     5959.330078\n",
              "BKNG    2703.260010\n",
              "AZO     2579.000000\n",
              "CMG     1944.050049\n",
              "MTD     1702.530029\n",
              "BLK      940.249084\n",
              "ORLY     864.539978\n",
              "EQIX     863.679749\n",
              "BIO      825.770020\n",
              "CHTR     821.010010\n",
              "dtype: float64"
            ]
          },
          "metadata": {},
          "execution_count": 125
        }
      ]
    },
    {
      "cell_type": "code",
      "source": [
        "stock_prices.loc[str(2023 - 1)+ '-1-1 00:00:00' : '2023-1-1 00:00:00'].head(5)"
      ],
      "metadata": {
        "id": "ycwdCU7_dlXM"
      },
      "execution_count": null,
      "outputs": []
    },
    {
      "cell_type": "code",
      "source": [
        "x = 1\n",
        "if 10 in range(1,11):\n",
        "  print(x)\n"
      ],
      "metadata": {
        "id": "wZO-dSoYdrsG"
      },
      "execution_count": null,
      "outputs": []
    }
  ]
}