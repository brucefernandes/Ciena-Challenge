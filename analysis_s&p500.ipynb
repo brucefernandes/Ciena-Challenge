{
  "cells": [
    {
      "cell_type": "code",
      "execution_count": null,
      "metadata": {
        "id": "Eihpcxtk_bTK"
      },
      "outputs": [],
      "source": [
        "import pandas as pd\n",
        "import numpy as np"
      ]
    },
    {
      "cell_type": "code",
      "execution_count": null,
      "metadata": {
        "id": "qTfevYmIRc1t"
      },
      "outputs": [],
      "source": [
        "stock_prices_init = pd.read_csv('./stocks.csv')\n",
        "stock_prices = stock_prices_init.copy()\n",
        "stock_prices.set_index(\"Date\", inplace=True, drop=True)"
      ]
    },
    {
      "cell_type": "code",
      "execution_count": null,
      "metadata": {
        "id": "uRwPc9itPCoV"
      },
      "outputs": [],
      "source": [
        "def highest_prices(years):\n",
        "  #first we determine the yearly range asked for\n",
        "  if years not in range(1,11):\n",
        "    return \"ERROR: Enter a valid number between 1 to 10\"\n",
        "  \n",
        "  start_year = str(2023 - years)\n",
        "  \n",
        "  stock_prices_in_range = stock_prices.loc[start_year + '-1-1 00:00:00' : '2023-1-1 00:00:00']\n",
        "  maximum_stock_prices = stock_prices_in_range.max()\n",
        "  top_10_tickers = maximum_stock_prices.nlargest(10)\n",
        "\n",
        "  return top_10_tickers"
      ]
    },
    {
      "cell_type": "code",
      "execution_count": null,
      "metadata": {
        "colab": {
          "base_uri": "https://localhost:8080/"
        },
        "id": "9Q1fpDoLcwMN",
        "outputId": "49df85be-e831-4bff-b864-1b9bb783076f"
      },
      "outputs": [],
      "source": [
        "highest_prices(5)"
      ]
    },
    {
      "cell_type": "code",
      "execution_count": null,
      "metadata": {
        "id": "wZO-dSoYdrsG"
      },
      "outputs": [],
      "source": [
        "def most_volatile(years):\n",
        "  #first we determine the yearly range asked for\n",
        "  if years not in range(1,11):\n",
        "    return \"ERROR: Enter a valid number between 1 to 10\"\n",
        "  \n",
        "  start_year = str(2023 - years)\n",
        "  stock_prices_in_range = stock_prices.loc[start_year + '-1-1 00:00:00' : '2023-1-1 00:00:00']\n",
        "\n",
        "  log_returns = np.log(stock_prices_in_range).diff() #calculate instantaneous returns \n",
        "\n",
        "  log_returns.dropna(how='all',axis=0, inplace=True) #removes first row sinces it has NaN\n",
        "  \n",
        "  standard_deviation = log_returns.std()\n",
        "  volatility = standard_deviation * np.sqrt(252) * 100 \n",
        "\n",
        "  # TRADING_DAYS = len(log_returns)\n",
        "  # rolling_volatility = log_returns.rolling(window=TRADING_DAYS).std()*np.sqrt(TRADING_DAYS) * 100\n",
        "\n",
        "  \n",
        "  return volatility.nlargest(10)\n"
      ]
    },
    {
      "cell_type": "code",
      "execution_count": null,
      "metadata": {
        "id": "zMxfo9KUcwbp"
      },
      "outputs": [],
      "source": [
        "most_volatile(5)"
      ]
    },
    {
      "cell_type": "code",
      "execution_count": null,
      "metadata": {},
      "outputs": [],
      "source": [
        "def least_volatile(years):\n",
        "  #first we determine the yearly range asked for\n",
        "  if years not in range(1,11):\n",
        "    return \"ERROR: Enter a valid number between 1 to 10\"\n",
        "  \n",
        "  start_year = str(2023 - years)\n",
        "  stock_prices_in_range = stock_prices.loc[start_year + '-1-1 00:00:00' : '2023-1-1 00:00:00']\n",
        "\n",
        "  log_returns = np.log(stock_prices_in_range).diff() #calculate instantaneous returns \n",
        "\n",
        "  log_returns.dropna(how='all',axis=0, inplace=True) #removes first row sinces it has NaN\n",
        "  \n",
        "  standard_deviation = log_returns.std()\n",
        "  volatility = standard_deviation * np.sqrt(252) * 100 \n",
        "  \n",
        "  return volatility.nsmallest(10)"
      ]
    },
    {
      "cell_type": "code",
      "execution_count": null,
      "metadata": {},
      "outputs": [],
      "source": [
        "least_volatile(5)"
      ]
    }
  ],
  "metadata": {
    "colab": {
      "provenance": []
    },
    "kernelspec": {
      "display_name": "Python 3.8.9 64-bit",
      "language": "python",
      "name": "python3"
    },
    "language_info": {
      "codemirror_mode": {
        "name": "ipython",
        "version": 3
      },
      "file_extension": ".py",
      "mimetype": "text/x-python",
      "name": "python",
      "nbconvert_exporter": "python",
      "pygments_lexer": "ipython3",
      "version": "3.8.9"
    },
    "vscode": {
      "interpreter": {
        "hash": "31f2aee4e71d21fbe5cf8b01ff0e069b9275f58929596ceb00d14d90e3e16cd6"
      }
    }
  },
  "nbformat": 4,
  "nbformat_minor": 0
}
